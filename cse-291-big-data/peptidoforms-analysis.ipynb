{
 "cells": [
  {
   "cell_type": "code",
   "execution_count": 18,
   "id": "82d4d3cf",
   "metadata": {},
   "outputs": [],
   "source": [
    "import pandas as pd\n",
    "import numpy as np\n",
    "import re"
   ]
  },
  {
   "cell_type": "code",
   "execution_count": 4,
   "id": "867b0504",
   "metadata": {},
   "outputs": [],
   "source": [
    "data = pd.read_csv('data/filtered_results.tsv', sep='\\t', low_memory=False)"
   ]
  },
  {
   "cell_type": "markdown",
   "id": "573499f1",
   "metadata": {},
   "source": [
    "Peptidoforms intensities, with 40,921 resolved peptidoforms detected in at least one sample (used for identifiability models)"
   ]
  },
  {
   "cell_type": "code",
   "execution_count": 6,
   "id": "7809cff5",
   "metadata": {},
   "outputs": [
    {
     "data": {
      "text/plain": [
       "(40921, 707)"
      ]
     },
     "execution_count": 6,
     "metadata": {},
     "output_type": "execute_result"
    }
   ],
   "source": [
    "data.shape"
   ]
  },
  {
   "cell_type": "code",
   "execution_count": 17,
   "id": "5649297f",
   "metadata": {},
   "outputs": [
    {
     "data": {
      "text/plain": [
       "Index(['rowid', 'ccms_row_id', 'Peptidoform', 'Peptidoform ID',\n",
       "       'Unmod peptidoform', 'Total', 'Total- Unmodified sequence',\n",
       "       'Peptidoforms- Unmodified sequence', 'Proteins', 'Mass',\n",
       "       ...\n",
       "       '_dyn_#Patient_M2_healthyMale.Timepoint_2_unmod',\n",
       "       '_dyn_#Patient_M2_healthyMale.Timepoint_3',\n",
       "       '_dyn_#Patient_M2_healthyMale.Timepoint_3_unmod',\n",
       "       '_dyn_#Patient_M3_healthyMale.Timepoint_1',\n",
       "       '_dyn_#Patient_M3_healthyMale.Timepoint_1_unmod',\n",
       "       '_dyn_#Patient_M3_healthyMale.Timepoint_2',\n",
       "       '_dyn_#Patient_M3_healthyMale.Timepoint_2_unmod',\n",
       "       '_dyn_#Patient_M3_healthyMale.Timepoint_3',\n",
       "       '_dyn_#Patient_M3_healthyMale.Timepoint_3_unmod', 'id'],\n",
       "      dtype='object', length=707)"
      ]
     },
     "execution_count": 17,
     "metadata": {},
     "output_type": "execute_result"
    }
   ],
   "source": [
    "data.columns"
   ]
  },
  {
   "cell_type": "code",
   "execution_count": null,
   "id": "4615afd9",
   "metadata": {},
   "outputs": [
    {
     "data": {
      "text/plain": [
       "58"
      ]
     },
     "execution_count": 19,
     "metadata": {},
     "output_type": "execute_result"
    }
   ],
   "source": [
    "pattern = r'_dyn_#Patient_([^\\.]+)\\.Timepoint_'\n",
    "patient_ids = set()\n",
    "\n",
    "for col in data.columns:\n",
    "    match = re.search(pattern, col)\n",
    "    if match:\n",
    "        patient_ids.add(match.group(1))\n",
    "\n",
    "# number of unique patients, remove the 6 healthy patients\n",
    "len(patient_ids) - 6"
   ]
  },
  {
   "cell_type": "code",
   "execution_count": 20,
   "id": "95d6d9cb",
   "metadata": {},
   "outputs": [
    {
     "data": {
      "text/plain": [
       "{'01',\n",
       " '02',\n",
       " '03',\n",
       " '05',\n",
       " '06',\n",
       " '07',\n",
       " '08',\n",
       " '09',\n",
       " '10',\n",
       " '11',\n",
       " '12',\n",
       " '14',\n",
       " '15',\n",
       " '16',\n",
       " '17',\n",
       " '19',\n",
       " '20',\n",
       " '21',\n",
       " '22',\n",
       " '23',\n",
       " '24',\n",
       " '25',\n",
       " '26',\n",
       " '27',\n",
       " '28',\n",
       " '29',\n",
       " '30',\n",
       " '31',\n",
       " '33',\n",
       " '34',\n",
       " '35',\n",
       " '36',\n",
       " '37',\n",
       " '38',\n",
       " '39',\n",
       " '40',\n",
       " '41',\n",
       " '42',\n",
       " '43',\n",
       " '44',\n",
       " '45',\n",
       " '46',\n",
       " '47',\n",
       " '48',\n",
       " '49',\n",
       " '50',\n",
       " '51',\n",
       " '52',\n",
       " '53',\n",
       " '54',\n",
       " '57',\n",
       " '58',\n",
       " 'F1_healthyFemale',\n",
       " 'F2_healthyFemale',\n",
       " 'F3_healthyFemale',\n",
       " 'M1_healthyMale',\n",
       " 'M2_healthyMale',\n",
       " 'M3_healthyMale'}"
      ]
     },
     "execution_count": 20,
     "metadata": {},
     "output_type": "execute_result"
    }
   ],
   "source": [
    "patient_ids"
   ]
  },
  {
   "cell_type": "code",
   "execution_count": null,
   "id": "2efc6703",
   "metadata": {},
   "outputs": [],
   "source": []
  }
 ],
 "metadata": {
  "kernelspec": {
   "display_name": ".venv",
   "language": "python",
   "name": "python3"
  },
  "language_info": {
   "codemirror_mode": {
    "name": "ipython",
    "version": 3
   },
   "file_extension": ".py",
   "mimetype": "text/x-python",
   "name": "python",
   "nbconvert_exporter": "python",
   "pygments_lexer": "ipython3",
   "version": "3.9.6"
  }
 },
 "nbformat": 4,
 "nbformat_minor": 5
}
